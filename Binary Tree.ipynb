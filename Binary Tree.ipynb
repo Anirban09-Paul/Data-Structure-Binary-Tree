{
 "cells": [
  {
   "cell_type": "markdown",
   "id": "36496bed",
   "metadata": {},
   "source": [
    "Binary Tree Representation"
   ]
  },
  {
   "cell_type": "code",
   "execution_count": 1,
   "id": "87f02c74",
   "metadata": {},
   "outputs": [
    {
     "name": "stdout",
     "output_type": "stream",
     "text": [
      "Node is not Found!!\n",
      "Pre-Order\n"
     ]
    },
    {
     "ename": "AttributeError",
     "evalue": "'BST' object has no attribute 'preorder'",
     "output_type": "error",
     "traceback": [
      "\u001b[1;31m---------------------------------------------------------------------------\u001b[0m",
      "\u001b[1;31mAttributeError\u001b[0m                            Traceback (most recent call last)",
      "\u001b[1;32m<ipython-input-1-31454ec3597b>\u001b[0m in \u001b[0;36m<module>\u001b[1;34m\u001b[0m\n\u001b[0;32m     84\u001b[0m \u001b[0mroot\u001b[0m\u001b[1;33m.\u001b[0m\u001b[0msearch\u001b[0m\u001b[1;33m(\u001b[0m\u001b[1;36m21\u001b[0m\u001b[1;33m)\u001b[0m\u001b[1;33m\u001b[0m\u001b[1;33m\u001b[0m\u001b[0m\n\u001b[0;32m     85\u001b[0m \u001b[0mprint\u001b[0m\u001b[1;33m(\u001b[0m\u001b[1;34m\"Pre-Order\"\u001b[0m\u001b[1;33m)\u001b[0m\u001b[1;33m\u001b[0m\u001b[1;33m\u001b[0m\u001b[0m\n\u001b[1;32m---> 86\u001b[1;33m \u001b[0mroot\u001b[0m\u001b[1;33m.\u001b[0m\u001b[0mpreorder\u001b[0m\u001b[1;33m(\u001b[0m\u001b[1;33m)\u001b[0m\u001b[1;33m\u001b[0m\u001b[1;33m\u001b[0m\u001b[0m\n\u001b[0m\u001b[0;32m     87\u001b[0m \u001b[1;33m\u001b[0m\u001b[0m\n\u001b[0;32m     88\u001b[0m \u001b[0mroot\u001b[0m\u001b[1;33m.\u001b[0m\u001b[0mmin\u001b[0m\u001b[1;33m(\u001b[0m\u001b[1;33m)\u001b[0m\u001b[1;33m\u001b[0m\u001b[1;33m\u001b[0m\u001b[0m\n",
      "\u001b[1;31mAttributeError\u001b[0m: 'BST' object has no attribute 'preorder'"
     ]
    }
   ],
   "source": [
    "class BST:\n",
    "    def __init__(self,key):\n",
    "        self.key=key\n",
    "        self.lchild=None\n",
    "        self.rchild=None\n",
    "    def insert(self,data):\n",
    "        if self.key is None:\n",
    "            self.key=data\n",
    "            return\n",
    "        if self.key==data:\n",
    "            return\n",
    "        if self.key>data:\n",
    "            if self.lchild is not None:\n",
    "                self.lchild.insert(data)\n",
    "            else:\n",
    "                self.lchild=BST(data)\n",
    "        else:\n",
    "            if self.rchild is not None:\n",
    "                self.rchild.insert(data)\n",
    "            else:\n",
    "                self.rchild=BST(data)\n",
    "\n",
    "    def search(self,data):\n",
    "        if self.key==data:\n",
    "            print(\"Node is Found!!\")\n",
    "            return\n",
    "        if self.key>data:\n",
    "            if self.lchild is not None:\n",
    "                self.lchild.search(data)\n",
    "            else:\n",
    "                print(\"Node is not Found!!\")\n",
    "        else:\n",
    "            if self.rchild is not None:\n",
    "                self.rchild.search(data)\n",
    "            else:\n",
    "                print(\"Node is not Found!!\")\n",
    "\n",
    "    def delete(self,data):\n",
    "        if self.key is None:\n",
    "            print(\"Tree is empty!!\")\n",
    "            return\n",
    "        if self.key>data:\n",
    "            if self.lchild:\n",
    "                self.lchild=self.lchild.delete(data)\n",
    "            else:\n",
    "                print(\"the given node is not present in the tree\")\n",
    "        elif self.key<data:\n",
    "            if self.rchild:\n",
    "                self.rchild=self.rchild.delete(data)\n",
    "            else:\n",
    "                print(\"the given node is not present in the tree\")\n",
    "        else:\n",
    "            if self.lchild is None:  #it will delte the left side node \n",
    "                temp=self.rchild  # so i store the value of this deleting node\n",
    "                self=None\n",
    "                return temp\n",
    "            if self.rchild is None:\n",
    "                temp=self.lchild\n",
    "                self=None\n",
    "                return\n",
    "            node=self.rchild\n",
    "            while node.lchild:\n",
    "                node=node.lchild\n",
    "            self.key=node.key\n",
    "            self.rchild=self.rchild.delete(self.key)\n",
    "        return self\n",
    "\n",
    "root=BST(10)\n",
    "list1=[20,4,15,19,8,25]\n",
    "for i in list1:\n",
    "    root.insert(i)\n",
    "root.search(21)\n",
    "print(\"Pre-Order\")\n",
    "root.preorder()\n",
    "\n",
    "root.min()\n",
    "root.max()"
   ]
  },
  {
   "cell_type": "markdown",
   "id": "2b16fa26",
   "metadata": {},
   "source": [
    "Binary Tree Traversal Operation"
   ]
  },
  {
   "cell_type": "code",
   "execution_count": 3,
   "id": "cc7c4337",
   "metadata": {},
   "outputs": [
    {
     "ename": "IndentationError",
     "evalue": "unindent does not match any outer indentation level (<tokenize>, line 8)",
     "output_type": "error",
     "traceback": [
      "\u001b[1;36m  File \u001b[1;32m\"<tokenize>\"\u001b[1;36m, line \u001b[1;32m8\u001b[0m\n\u001b[1;33m    def inorder(self):\u001b[0m\n\u001b[1;37m    ^\u001b[0m\n\u001b[1;31mIndentationError\u001b[0m\u001b[1;31m:\u001b[0m unindent does not match any outer indentation level\n"
     ]
    }
   ],
   "source": [
    "def preorder(self):\n",
    "        print(self.key,end=' ')\n",
    "        if self.lchild is not None:\n",
    "            self.lchild.preorder()\n",
    "        if self.rchild is not None:\n",
    "            self.rchild.preorder()\n",
    "\n",
    "    def inorder(self):\n",
    "        if self.lchild is not None:\n",
    "            self.lchild.inorder()\n",
    "        print(self.key,end=' ')\n",
    "        if self.rchild is not None:\n",
    "            self.rchild.inorder()\n",
    "    def postorder(self):\n",
    "        if self.lchild is not None:\n",
    "            self.lchild.postorder()\n",
    "        if self.rchild is not None:\n",
    "            self.rchild.postorder()\n",
    "        print(self.key,end=' ')"
   ]
  },
  {
   "cell_type": "markdown",
   "id": "0dd49a0e",
   "metadata": {},
   "source": [
    "Binary Tree Deletion Operation"
   ]
  },
  {
   "cell_type": "code",
   "execution_count": 4,
   "id": "0fd04c3b",
   "metadata": {},
   "outputs": [],
   "source": [
    " def delete(self,data):\n",
    "        if self.key is None:\n",
    "            print(\"Tree is empty!!\")\n",
    "            return\n",
    "        if self.key>data:\n",
    "            if self.lchild:\n",
    "                self.lchild=self.lchild.delete(data)\n",
    "            else:\n",
    "                print(\"the given node is not present in the tree\")\n",
    "        elif self.key<data:\n",
    "            if self.rchild:\n",
    "                self.rchild=self.rchild.delete(data)\n",
    "            else:\n",
    "                print(\"the given node is not present in the tree\")\n",
    "        else:\n",
    "            if self.lchild is None:  #it will delte the left side node \n",
    "                temp=self.rchild  # so i store the value of this deleting node\n",
    "                self=None\n",
    "                return temp\n",
    "            if self.rchild is None:\n",
    "                temp=self.lchild\n",
    "                self=None\n",
    "                return\n",
    "            node=self.rchild\n",
    "            while node.lchild:\n",
    "                node=node.lchild\n",
    "            self.key=node.key\n",
    "            self.rchild=self.rchild.delete(self.key)\n",
    "        return self"
   ]
  },
  {
   "cell_type": "markdown",
   "id": "62773e0c",
   "metadata": {},
   "source": [
    "Binary Tree Min Max Node"
   ]
  },
  {
   "cell_type": "code",
   "execution_count": null,
   "id": "3fc2c313",
   "metadata": {},
   "outputs": [],
   "source": [
    " def min(self):\n",
    "        current=self\n",
    "        while current.lchild is not None:\n",
    "            current=current.lchild\n",
    "        print(\"node with smallest key is: \",current.key)\n",
    "\n",
    "    def max(self):\n",
    "        current=self\n",
    "        while current.rchild is not None:\n",
    "            current=current.rchild\n",
    "        print(\"largest node is: \",current.key)\n"
   ]
  }
 ],
 "metadata": {
  "kernelspec": {
   "display_name": "Python 3",
   "language": "python",
   "name": "python3"
  },
  "language_info": {
   "codemirror_mode": {
    "name": "ipython",
    "version": 3
   },
   "file_extension": ".py",
   "mimetype": "text/x-python",
   "name": "python",
   "nbconvert_exporter": "python",
   "pygments_lexer": "ipython3",
   "version": "3.9.4"
  }
 },
 "nbformat": 4,
 "nbformat_minor": 5
}
